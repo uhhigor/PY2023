{
 "cells": [
  {
   "cell_type": "code",
   "execution_count": 1,
   "id": "172afa71-8330-4d46-ba97-c9dc4f1bee84",
   "metadata": {},
   "outputs": [],
   "source": [
    "import pandas as pd"
   ]
  },
  {
   "cell_type": "code",
   "execution_count": 2,
   "id": "f5cc503e-0bd4-4bd2-b14c-b2efcea1b7f9",
   "metadata": {},
   "outputs": [],
   "source": [
    "data = pd.read_csv('data.csv', sep=',', names=['sex', 'length', 'diameter', 'height', 'whole weight', \n",
    "                           'shucked weight', 'viscera weight', 'shell weight', 'rings'])"
   ]
  },
  {
   "cell_type": "code",
   "execution_count": 3,
   "id": "14fb8fe5-536b-4fcd-a879-215720bb6648",
   "metadata": {},
   "outputs": [],
   "source": [
    "df = pd.DataFrame(data)"
   ]
  },
  {
   "cell_type": "code",
   "execution_count": 4,
   "id": "be9c109b-4eeb-4978-9d97-b8c2670b86d9",
   "metadata": {},
   "outputs": [
    {
     "name": "stdout",
     "output_type": "stream",
     "text": [
      "     sex  length  diameter  height  whole weight  shucked weight  \\\n",
      "0      M   0.455     0.365   0.095        0.5140          0.2245   \n",
      "1      M   0.350     0.265   0.090        0.2255          0.0995   \n",
      "2      F   0.530     0.420   0.135        0.6770          0.2565   \n",
      "3      M   0.440     0.365   0.125        0.5160          0.2155   \n",
      "4      I   0.330     0.255   0.080        0.2050          0.0895   \n",
      "...   ..     ...       ...     ...           ...             ...   \n",
      "4172   F   0.565     0.450   0.165        0.8870          0.3700   \n",
      "4173   M   0.590     0.440   0.135        0.9660          0.4390   \n",
      "4174   M   0.600     0.475   0.205        1.1760          0.5255   \n",
      "4175   F   0.625     0.485   0.150        1.0945          0.5310   \n",
      "4176   M   0.710     0.555   0.195        1.9485          0.9455   \n",
      "\n",
      "      viscera weight  shell weight  rings  \n",
      "0             0.1010        0.1500     15  \n",
      "1             0.0485        0.0700      7  \n",
      "2             0.1415        0.2100      9  \n",
      "3             0.1140        0.1550     10  \n",
      "4             0.0395        0.0550      7  \n",
      "...              ...           ...    ...  \n",
      "4172          0.2390        0.2490     11  \n",
      "4173          0.2145        0.2605     10  \n",
      "4174          0.2875        0.3080      9  \n",
      "4175          0.2610        0.2960     10  \n",
      "4176          0.3765        0.4950     12  \n",
      "\n",
      "[4177 rows x 9 columns]\n"
     ]
    }
   ],
   "source": [
    "print(df)"
   ]
  },
  {
   "cell_type": "code",
   "execution_count": 66,
   "id": "d587dfb6-c453-40fd-87b2-6be50c85eb5a",
   "metadata": {},
   "outputs": [
    {
     "name": "stdout",
     "output_type": "stream",
     "text": [
      "        count      %\n",
      "sex                 \n",
      "Male     1528  36.58\n",
      "Infant   1342  32.13\n",
      "Female   1307  31.29\n"
     ]
    }
   ],
   "source": [
    "sexCount = df.groupby('sex').agg(count=('sex', 'count'))\n",
    "sexPercentage = sexCount.apply(lambda x: round(100 * x / float(x.sum()),2)).rename(columns={'count': '%'})\n",
    "\n",
    "result1 = sexCount.merge(sexPercentage, on='sex', how='left').sort_index(ascending=False).rename(index={'M':'Male','I':'Infant','F':'Female'})\n",
    "print(result1)"
   ]
  },
  {
   "cell_type": "code",
   "execution_count": null,
   "id": "2b4a91f9-3281-4a77-ac1c-dfbe6c4029c1",
   "metadata": {},
   "outputs": [],
   "source": []
  }
 ],
 "metadata": {
  "kernelspec": {
   "display_name": "Python 3 (ipykernel)",
   "language": "python",
   "name": "python3"
  },
  "language_info": {
   "codemirror_mode": {
    "name": "ipython",
    "version": 3
   },
   "file_extension": ".py",
   "mimetype": "text/x-python",
   "name": "python",
   "nbconvert_exporter": "python",
   "pygments_lexer": "ipython3",
   "version": "3.9.6"
  }
 },
 "nbformat": 4,
 "nbformat_minor": 5
}
